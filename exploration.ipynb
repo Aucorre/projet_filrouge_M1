{
 "cells": [
  {
   "cell_type": "code",
   "execution_count": null,
   "metadata": {},
   "outputs": [],
   "source": [
    "import pandas as pd"
   ]
  },
  {
   "cell_type": "code",
   "execution_count": null,
   "metadata": {},
   "outputs": [],
   "source": [
    "customer_df = pd.read_csv(\"archive/olist_customers_dataset.csv\")\n",
    "\n",
    "customer_df.shape"
   ]
  },
  {
   "cell_type": "code",
   "execution_count": null,
   "metadata": {},
   "outputs": [],
   "source": [
    "geoloc_df = pd.read_csv(\"./archive/olist_geolocation_dataset.csv\")\n",
    "\n",
    "\n",
    "geoloc_df.shape"
   ]
  },
  {
   "cell_type": "code",
   "execution_count": null,
   "metadata": {},
   "outputs": [],
   "source": [
    "order_item_df = pd.read_csv(\"./archive/olist_order_items_dataset.csv\")\n",
    "\n",
    "order_item_df"
   ]
  },
  {
   "cell_type": "code",
   "execution_count": null,
   "metadata": {},
   "outputs": [],
   "source": [
    "order_payment_df = pd.read_csv(\"./archive/olist_order_payments_dataset.csv\")\n",
    "\n",
    "order_payment_df"
   ]
  },
  {
   "cell_type": "code",
   "execution_count": null,
   "metadata": {},
   "outputs": [],
   "source": [
    "order_review_df = pd.read_csv(\"./archive/olist_order_reviews_dataset.csv\")\n",
    "\n",
    "order_review_df"
   ]
  },
  {
   "cell_type": "code",
   "execution_count": null,
   "metadata": {},
   "outputs": [],
   "source": [
    "orders_df = pd.read_csv(\"./archive/olist_orders_dataset.csv\")\n",
    "\n",
    "orders_df"
   ]
  },
  {
   "cell_type": "code",
   "execution_count": null,
   "metadata": {},
   "outputs": [],
   "source": [
    "products_df = pd.read_csv(\"./archive/olist_products_dataset.csv\")\n",
    "\n",
    "products_df"
   ]
  },
  {
   "cell_type": "code",
   "execution_count": null,
   "metadata": {},
   "outputs": [],
   "source": [
    "sellers_df = pd.read_csv(\"./archive/olist_sellers_dataset.csv\")\n",
    "\n",
    "sellers_df"
   ]
  },
  {
   "cell_type": "code",
   "execution_count": null,
   "metadata": {},
   "outputs": [],
   "source": [
    "merged_df = pd.merge(orders_df, order_item_df, on=\"order_id\")\n",
    "\n",
    "merged_df = pd.merge(merged_df, products_df, on=\"product_id\")\n",
    "\n",
    "merged_df = pd.merge(merged_df, sellers_df, on=\"seller_id\")\n",
    "\n",
    "merged_df = pd.merge(merged_df, customer_df, on=\"customer_id\")\n",
    "\n",
    "merged_df = pd.merge(merged_df, order_payment_df, on=\"order_id\")\n",
    "\n",
    "merged_df = pd.merge(merged_df, order_review_df, on=\"order_id\")\n",
    "\n",
    "merged_df"
   ]
  },
  {
   "cell_type": "code",
   "execution_count": null,
   "metadata": {},
   "outputs": [],
   "source": [
    "merged_df.to_csv(\"merged_data.csv\", index=False)"
   ]
  }
 ],
 "metadata": {
  "kernelspec": {
   "display_name": "Python 3",
   "language": "python",
   "name": "python3"
  },
  "language_info": {
   "codemirror_mode": {
    "name": "ipython",
    "version": 3
   },
   "file_extension": ".py",
   "mimetype": "text/x-python",
   "name": "python",
   "nbconvert_exporter": "python",
   "pygments_lexer": "ipython3",
   "version": "3.12.7"
  }
 },
 "nbformat": 4,
 "nbformat_minor": 2
}
