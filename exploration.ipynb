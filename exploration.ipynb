{
 "cells": [
  {
   "cell_type": "code",
   "execution_count": 2,
   "metadata": {},
   "outputs": [],
   "source": [
    "import pandas as pd"
   ]
  },
  {
   "cell_type": "code",
   "execution_count": null,
   "metadata": {},
   "outputs": [],
   "source": [
    "customer_df = pd.read_csv(\"archive/olist_customers_dataset.csv\")\n",
    "\n",
    "customer_df.shape"
   ]
  },
  {
   "cell_type": "code",
   "execution_count": null,
   "metadata": {},
   "outputs": [],
   "source": [
    "geoloc_df = pd.read_csv(\"./archive/olist_geolocation_dataset.csv\")\n",
    "\n",
    "\n",
    "geoloc_df.shape"
   ]
  },
  {
   "cell_type": "code",
   "execution_count": null,
   "metadata": {},
   "outputs": [],
   "source": [
    "order_item_df = pd.read_csv(\"./archive/olist_order_items_dataset.csv\")\n",
    "\n",
    "order_item_df"
   ]
  },
  {
   "cell_type": "code",
   "execution_count": null,
   "metadata": {},
   "outputs": [],
   "source": [
    "order_payment_df = pd.read_csv(\"./archive/olist_order_payments_dataset.csv\")\n",
    "\n",
    "order_payment_df"
   ]
  },
  {
   "cell_type": "code",
   "execution_count": null,
   "metadata": {},
   "outputs": [],
   "source": [
    "order_review_df = pd.read_csv(\"./archive/olist_order_reviews_dataset.csv\")\n",
    "\n",
    "order_review_df"
   ]
  },
  {
   "cell_type": "code",
   "execution_count": null,
   "metadata": {},
   "outputs": [],
   "source": [
    "orders_df = pd.read_csv(\"./archive/olist_orders_dataset.csv\")\n",
    "\n",
    "orders_df"
   ]
  },
  {
   "cell_type": "code",
   "execution_count": null,
   "metadata": {},
   "outputs": [],
   "source": [
    "products_df = pd.read_csv(\"./archive/olist_products_dataset.csv\")\n",
    "\n",
    "products_df"
   ]
  },
  {
   "cell_type": "code",
   "execution_count": null,
   "metadata": {},
   "outputs": [],
   "source": [
    "sellers_df = pd.read_csv(\"./archive/olist_sellers_dataset.csv\")\n",
    "\n",
    "sellers_df"
   ]
  },
  {
   "cell_type": "code",
   "execution_count": null,
   "metadata": {},
   "outputs": [],
   "source": [
    "merged_df = pd.merge(orders_df, order_item_df, on=\"order_id\")\n",
    "\n",
    "merged_df = pd.merge(merged_df, products_df, on=\"product_id\")\n",
    "\n",
    "merged_df = pd.merge(merged_df, sellers_df, on=\"seller_id\")\n",
    "\n",
    "merged_df = pd.merge(merged_df, customer_df, on=\"customer_id\")\n",
    "\n",
    "merged_df = pd.merge(merged_df, order_payment_df, on=\"order_id\")\n",
    "\n",
    "merged_df = pd.merge(merged_df, order_review_df, on=\"order_id\")\n",
    "\n",
    "merged_df"
   ]
  },
  {
   "cell_type": "code",
   "execution_count": null,
   "metadata": {},
   "outputs": [],
   "source": [
    "merged_df['order_status'].unique()"
   ]
  },
  {
   "cell_type": "code",
   "execution_count": null,
   "metadata": {},
   "outputs": [],
   "source": [
    "merged_df['payment_type'].unique()"
   ]
  },
  {
   "cell_type": "code",
   "execution_count": null,
   "metadata": {},
   "outputs": [],
   "source": [
    "merged_df.columns"
   ]
  },
  {
   "cell_type": "code",
   "execution_count": null,
   "metadata": {},
   "outputs": [],
   "source": [
    "merged_df[merged_df[\"order_delivered_customer_date\"]>=merged_df[\"order_estimated_delivery_date\"]]"
   ]
  },
  {
   "cell_type": "code",
   "execution_count": null,
   "metadata": {},
   "outputs": [],
   "source": [
    "merged_df[[\"customer_unique_id\",\"customer_id\"]]"
   ]
  },
  {
   "cell_type": "code",
   "execution_count": null,
   "metadata": {},
   "outputs": [],
   "source": [
    "merged_df.isna().sum().sort_values(ascending=False)"
   ]
  },
  {
   "cell_type": "code",
   "execution_count": null,
   "metadata": {},
   "outputs": [],
   "source": [
    "merged_df.corr(numeric_only=True)"
   ]
  },
  {
   "cell_type": "code",
   "execution_count": 24,
   "metadata": {},
   "outputs": [
    {
     "data": {
      "text/plain": [
       "payment_sequential\n",
       "1     112281\n",
       "2       3359\n",
       "3        646\n",
       "4        315\n",
       "5        189\n",
       "6        132\n",
       "7         91\n",
       "8         60\n",
       "9         49\n",
       "10        41\n",
       "11        36\n",
       "12        28\n",
       "13        16\n",
       "14        13\n",
       "15        11\n",
       "18         9\n",
       "17         9\n",
       "16         9\n",
       "19         9\n",
       "20         6\n",
       "21         6\n",
       "22         3\n",
       "25         2\n",
       "23         2\n",
       "26         2\n",
       "24         2\n",
       "27         1\n",
       "29         1\n",
       "28         1\n",
       "Name: count, dtype: int64"
      ]
     },
     "execution_count": 24,
     "metadata": {},
     "output_type": "execute_result"
    }
   ],
   "source": [
    "merged_df[\"payment_sequential\"].value_counts()"
   ]
  },
  {
   "cell_type": "markdown",
   "metadata": {},
   "source": [
    "# Demander au client si les valeurs sont normales\n",
    "\n",
    "\n",
    "Vendeurs à regarder, moyenne de reviews et prix, et comparer les vendeurs"
   ]
  }
 ],
 "metadata": {
  "kernelspec": {
   "display_name": "mathsM1",
   "language": "python",
   "name": "python3"
  },
  "language_info": {
   "codemirror_mode": {
    "name": "ipython",
    "version": 3
   },
   "file_extension": ".py",
   "mimetype": "text/x-python",
   "name": "python",
   "nbconvert_exporter": "python",
   "pygments_lexer": "ipython3",
   "version": "3.13.0"
  }
 },
 "nbformat": 4,
 "nbformat_minor": 2
}
