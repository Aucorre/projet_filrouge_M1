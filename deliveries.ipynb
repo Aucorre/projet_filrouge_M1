{
 "cells": [
  {
   "cell_type": "code",
   "execution_count": null,
   "metadata": {},
   "outputs": [],
   "source": [
    "import pandas as pd\n",
    "import numpy as np\n",
    "import matplotlib.pyplot as plt"
   ]
  },
  {
   "cell_type": "code",
   "execution_count": null,
   "metadata": {},
   "outputs": [],
   "source": [
    "df = pd.read_csv('merged_data.csv')\n",
    "geoloc_df = pd.read_csv('archive/olist_geolocation_dataset.csv')"
   ]
  },
  {
   "cell_type": "code",
   "execution_count": null,
   "metadata": {},
   "outputs": [],
   "source": [
    "df['delay'] = (pd.to_datetime(df[\"order_estimated_delivery_date\"]) - pd.to_datetime(df[\"order_delivered_customer_date\"])).dt.days"
   ]
  },
  {
   "cell_type": "code",
   "execution_count": null,
   "metadata": {},
   "outputs": [],
   "source": [
    "geo_aggregated = geoloc_df.groupby('geolocation_zip_code_prefix').agg({\n",
    "    'geolocation_lat': 'mean',\n",
    "    'geolocation_lng': 'mean'\n",
    "}).reset_index()"
   ]
  },
  {
   "cell_type": "code",
   "execution_count": null,
   "metadata": {},
   "outputs": [],
   "source": [
    "df = df.merge(geo_aggregated, left_on='customer_zip_code_prefix', right_on='geolocation_zip_code_prefix', how='left')"
   ]
  },
  {
   "cell_type": "code",
   "execution_count": null,
   "metadata": {},
   "outputs": [],
   "source": [
    "df.groupby(\"customer_city\")[\"delay\"].mean().sort_values(ascending=False)[:10].plot(kind=\"bar\")\n",
    "plt.xticks(rotation=45)"
   ]
  },
  {
   "cell_type": "code",
   "execution_count": null,
   "metadata": {},
   "outputs": [],
   "source": [
    "import geopandas as gpd\n",
    "import matplotlib.pyplot as plt\n",
    "import seaborn as sns\n",
    "from shapely.geometry import Point"
   ]
  },
  {
   "cell_type": "code",
   "execution_count": null,
   "metadata": {},
   "outputs": [],
   "source": [
    "data = df.copy()\n",
    "\n",
    "filtered_data = data[\n",
    "    (data['geolocation_lat'] > -60) & (data['geolocation_lat'] < 15) &  # Latitudes\n",
    "    (data['geolocation_lng'] > -80) & (data['geolocation_lng'] < -30)  # Longitudes\n",
    "]\n",
    "\n",
    "\n",
    "world = gpd.read_file('geo_panda_maps/ne_110m_admin_0_countries.shp')\n",
    "\n",
    "\n",
    "fig, ax = plt.subplots(figsize=(12, 8))\n",
    "world[world['CONTINENT'] == 'South America'].plot(ax=ax, color='lightgrey', edgecolor='black')\n",
    "\n",
    "\n",
    "sns.scatterplot(\n",
    "    x='geolocation_lng', y='geolocation_lat', size='delay', sizes=(10, 200),\n",
    "    hue='delay', palette=\"coolwarm\", data=filtered_data, ax=ax, alpha=0.8,\n",
    "    legend=False \n",
    ")\n",
    "\n",
    "\n",
    "sm = plt.cm.ScalarMappable(cmap=\"coolwarm\", norm=plt.Normalize(vmin=0, vmax=15))  \n",
    "sm.set_array([])\n",
    "cbar = plt.colorbar(sm, ax=ax)\n",
    "cbar.set_label(\"Retard moyen (jours)\", fontsize=12)\n",
    "\n",
    "\n",
    "ax.set_title(\"Carte des retards moyens par localisation\", fontsize=16)\n",
    "ax.set_xlabel(\"Longitude\")\n",
    "ax.set_ylabel(\"Latitude\")\n",
    "plt.show()"
   ]
  }
 ],
 "metadata": {
  "language_info": {
   "name": "python"
  }
 },
 "nbformat": 4,
 "nbformat_minor": 2
}
